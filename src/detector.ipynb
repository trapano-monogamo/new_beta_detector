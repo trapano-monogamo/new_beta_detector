{
 "cells": [
  {
   "cell_type": "markdown",
   "metadata": {},
   "source": [
    "# Beta Detector"
   ]
  },
  {
   "cell_type": "code",
   "execution_count": 3,
   "metadata": {},
   "outputs": [],
   "source": [
    "import numpy as np\n",
    "from matplotlib import pyplot as plt\n",
    "import matplotlib as mpl\n",
    "\n",
    "from scipy.optimize import curve_fit\n",
    "from scipy.signal import find_peaks\n",
    "\n",
    "import soundfile as sf"
   ]
  },
  {
   "cell_type": "code",
   "execution_count": 4,
   "metadata": {},
   "outputs": [
    {
     "name": "stdout",
     "output_type": "stream",
     "text": [
      "shape: (63204635, 2), rate: 44100\n"
     ]
    }
   ],
   "source": [
    "threshold = .25\n",
    "binc = 30\n",
    "data, rate = sf.read(\"../sample_3.flac\")\n",
    "print(f\"shape: {data.shape}, rate: {rate}\")"
   ]
  },
  {
   "cell_type": "code",
   "execution_count": 5,
   "metadata": {},
   "outputs": [
    {
     "data": {
      "text/plain": [
       "<BarContainer object of 10 artists>"
      ]
     },
     "execution_count": 5,
     "metadata": {},
     "output_type": "execute_result"
    },
    {
     "data": {
      "image/png": "[encoded data removed]",
      "text/plain": [
       "<Figure size 640x480 with 2 Axes>"
      ]
     },
     "metadata": {},
     "output_type": "display_data"
    }
   ],
   "source": [
    "class EnergyClass:\n",
    "    e_mix: float\n",
    "    e_max: float\n",
    "    freq: int\n",
    "\n",
    "    def __init__(self, e_min: float, e_max: float):\n",
    "        self.e_min = e_min\n",
    "        self.e_max = e_max\n",
    "        self.freq = 0\n",
    "\n",
    "def calculate_frequencies(data: list, n_bins: int, _filter = lambda _: True) -> list:\n",
    "    m = min(data)\n",
    "    bin_width = (max(data) - min(data)) / n_bins\n",
    "    histogram = [ EnergyClass(m + i * bin_width, m + (i+1) * bin_width) for i in range(n_bins) ]\n",
    "    filtered = filter(_filter, data)\n",
    "    for value in filtered:\n",
    "        for bin in histogram:\n",
    "            if value >= bin.e_min and value < bin.e_max:\n",
    "                bin.freq += 1\n",
    "    return histogram\n",
    "\n",
    "\n",
    "# TEST\n",
    "\n",
    "n_bins = 10\n",
    "sample = [np.random.normal(-5,5) for _ in range(0,100,1)]\n",
    "results = calculate_frequencies(sample, n_bins)\n",
    "bar_data = []\n",
    "\n",
    "for bin in results:\n",
    "    bar_data.append([bin.e_min, bin.freq])\n",
    "\n",
    "fig, axs = plt.subplots(2)\n",
    "# axs[1].plot(sample, '*')\n",
    "axs[0].hist(sample, bins=n_bins)\n",
    "axs[1].bar([entry[0] for entry in bar_data], [entry[1] for entry in bar_data])"
   ]
  },
  {
   "cell_type": "code",
   "execution_count": 6,
   "metadata": {},
   "outputs": [
    {
     "ename": "",
     "evalue": "",
     "output_type": "error",
     "traceback": [
      "\u001b[1;31mThe Kernel crashed while executing code in the current cell or a previous cell. \n",
      "\u001b[1;31mPlease review the code in the cell(s) to identify a possible cause of the failure. \n",
      "\u001b[1;31mClick <a href='https://aka.ms/vscodeJupyterKernelCrash'>here</a> for more info. \n",
      "\u001b[1;31mView Jupyter <a href='command:jupyter.viewOutput'>log</a> for further details."
     ]
    }
   ],
   "source": [
    "# %matplotlib qt\n",
    "%matplotlib inline\n",
    "\n",
    "abs_wf = [abs(x) for x in data[:,1]]\n",
    "bars = calculate_frequencies(abs_wf, binc, lambda e: e >= threshold)\n",
    "\n",
    "fig, axs = plt.subplots(2, constrained_layout=True)\n",
    "# fig.set_size_inches(12,5)\n",
    "# fig.tight_layout()\n",
    "\n",
    "axs[0].set_title(\"Detected signal\")\n",
    "axs[0].set_xlabel(f\"Samples [rate: {rate}/s]\")\n",
    "axs[0].set_ylabel(\"Normalized intensity\")\n",
    "axs[0].plot(abs_wf, c='g', label=\"signal\")\n",
    "axs[0].axhline(threshold, ls='--', c='tab:orange', label=\"threshold\")\n",
    "# axs[0].legend()\n",
    "\n",
    "axs[1].set_title(\"Energies spectrum\")\n",
    "axs[1].set_xlabel(\"Normalized classes\")\n",
    "axs[1].set_ylabel(\"Frequency\")\n",
    "axs[1].hist(list(filter(lambda e: e >= threshold, abs_wf)), bins=binc, label=\"frequencies\")\n",
    "# axs[1].legend()\n",
    "\n",
    "# axs[2].bar([b.e_min for b in bars], [b.freq for b in bars]) # mmmh that's not right\n",
    "\n",
    "plt.show()"
   ]
  },
  {
   "cell_type": "code",
   "execution_count": null,
   "metadata": {},
   "outputs": [],
   "source": [
    "plt.scatter([i/len(bars) for i in range(len(bars))], [b.freq for b in bars])"
   ]
  }
 ],
 "metadata": {
  "kernelspec": {
   "display_name": "beta_detector",
   "language": "python",
   "name": "python3"
  },
  "language_info": {
   "codemirror_mode": {
    "name": "ipython",
    "version": 3
   },
   "file_extension": ".py",
   "mimetype": "text/x-python",
   "name": "python",
   "nbconvert_exporter": "python",
   "pygments_lexer": "ipython3",
   "version": "3.10.12"
  }
 },
 "nbformat": 4,
 "nbformat_minor": 2
}
